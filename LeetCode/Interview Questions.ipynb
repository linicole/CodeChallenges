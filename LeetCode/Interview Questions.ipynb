{
 "cells": [
  {
   "cell_type": "markdown",
   "metadata": {},
   "source": [
    "# Interview Questions"
   ]
  },
  {
   "cell_type": "markdown",
   "metadata": {},
   "source": [
    "#### 1. Recurring  \n",
    "Find the first recurring character in a string."
   ]
  },
  {
   "cell_type": "code",
   "execution_count": 15,
   "metadata": {
    "collapsed": true
   },
   "outputs": [],
   "source": [
    "thestr = 'DYBACABEY'"
   ]
  },
  {
   "cell_type": "code",
   "execution_count": 16,
   "metadata": {
    "collapsed": true
   },
   "outputs": [],
   "source": [
    "def firstRecurring(newstr):\n",
    "    strlst = list(newstr)\n",
    "    char = []\n",
    "    cnt  = []\n",
    "    for c in strlst:\n",
    "        if c not in char:\n",
    "            char.append(c)\n",
    "            cnt.append(1)\n",
    "        else:\n",
    "            char_ind = char.index(c)\n",
    "            cnt[char_ind] += 1\n",
    "    ind_char = [i for i, j in enumerate(cnt) if j > 1][0]\n",
    "    out = char[ind_char]\n",
    "    return out"
   ]
  },
  {
   "cell_type": "code",
   "execution_count": 17,
   "metadata": {},
   "outputs": [
    {
     "data": {
      "text/plain": [
       "'Y'"
      ]
     },
     "execution_count": 17,
     "metadata": {},
     "output_type": "execute_result"
    }
   ],
   "source": [
    "firstRecurring(thestr)"
   ]
  },
  {
   "cell_type": "markdown",
   "metadata": {},
   "source": [
    "  "
   ]
  },
  {
   "cell_type": "markdown",
   "metadata": {},
   "source": [
    "#### 2. Right rotate a list by n"
   ]
  },
  {
   "cell_type": "markdown",
   "metadata": {},
   "source": [
    "Input:\n",
    "* n = 2 \n",
    "* List_1 = [1, 2, 3, 4, 5, 6]\n",
    "         \n",
    "Output : \n",
    "* List_1 = [5, 6, 1, 2, 3, 4]\n",
    "\n",
    "We get output list after right rotating (clockwise) given list by 2."
   ]
  },
  {
   "cell_type": "code",
   "execution_count": 21,
   "metadata": {},
   "outputs": [],
   "source": [
    "def right_n_rotate(n, newlst):\n",
    "    outlst = newlst[-n:] + newlst[:-n]\n",
    "    return outlst"
   ]
  },
  {
   "cell_type": "code",
   "execution_count": 22,
   "metadata": {},
   "outputs": [
    {
     "data": {
      "text/plain": [
       "[5, 6, 1, 2, 3, 4]"
      ]
     },
     "execution_count": 22,
     "metadata": {},
     "output_type": "execute_result"
    }
   ],
   "source": [
    "right_n_rotate(2, [1,2,3,4,5,6])"
   ]
  },
  {
   "cell_type": "markdown",
   "metadata": {},
   "source": [
    "  "
   ]
  },
  {
   "cell_type": "markdown",
   "metadata": {},
   "source": [
    "####  3. Generate random numbers within a given range and store in a list"
   ]
  },
  {
   "cell_type": "markdown",
   "metadata": {},
   "source": [
    "* Input : num = 10, start = 20, end = 40\n",
    "* Output : [23, 20, 30, 33, 30, 36, 37, 27, 28, 38] --> The output contains 10 random numbers in range [20, 40].\n",
    "\n",
    "* Input : num = 5, start = 10, end = 15\n",
    "* Output : [15, 11, 15, 12, 11] --> The output contains 5 random numbers in range [10, 15]."
   ]
  },
  {
   "cell_type": "code",
   "execution_count": 49,
   "metadata": {
    "collapsed": true
   },
   "outputs": [],
   "source": [
    "def generate_n_random(num, start, end):\n",
    "    import random\n",
    "    output = [random.randint(start, end) for n in range(num)]\n",
    "    return output"
   ]
  },
  {
   "cell_type": "code",
   "execution_count": 52,
   "metadata": {},
   "outputs": [
    {
     "data": {
      "text/plain": [
       "[31, 23, 37, 20, 27, 24, 33, 38, 34, 31]"
      ]
     },
     "execution_count": 52,
     "metadata": {},
     "output_type": "execute_result"
    }
   ],
   "source": [
    "generate_n_random(10, 20, 40)"
   ]
  },
  {
   "cell_type": "markdown",
   "metadata": {},
   "source": [
    "  "
   ]
  },
  {
   "cell_type": "markdown",
   "metadata": {},
   "source": [
    "#### 4. Print all sublists of a list"
   ]
  },
  {
   "cell_type": "markdown",
   "metadata": {},
   "source": [
    "* Input  : list = [1, 2, 3] \n",
    "* Output : [[], [1], [1, 2], [1, 2, 3], [2], [2, 3], [3]]\n",
    "\n",
    "* Input : [1, 2, 3, 4] \n",
    "* Output : [[], [1], [1, 2], [1, 2, 3], [1, 2, 3, 4], [2], [2, 3], [2, 3, 4], [3], [3, 4], [4]]"
   ]
  },
  {
   "cell_type": "code",
   "execution_count": 83,
   "metadata": {},
   "outputs": [],
   "source": [
    "def sublst_generator(newlst, partlst, output):\n",
    "    import copy\n",
    "    \n",
    "    for i in range(len(newlst)):\n",
    "        \n",
    "        copied_partlst = copy.copy(partlst)\n",
    "        # copied_partlst = partlst # the following append will also change \"partlst\"\n",
    "    \n",
    "        copied_partlst.append(newlst[i])\n",
    "        copied_newlst = newlst[i+1:]\n",
    "        output.append(copied_partlst)\n",
    "        \n",
    "        sublst_generator(copied_newlst, copied_partlst, output)\n",
    "        \n",
    "    return output\n",
    "\n",
    "def all_sublst(yourlist):\n",
    "    yourout = sublst_generator(yourlist, [], [[]])\n",
    "    return yourout"
   ]
  },
  {
   "cell_type": "code",
   "execution_count": 84,
   "metadata": {},
   "outputs": [
    {
     "data": {
      "text/plain": [
       "[[], [1], [1, 2], [1, 2, 3], [1, 3], [2], [2, 3], [3]]"
      ]
     },
     "execution_count": 84,
     "metadata": {},
     "output_type": "execute_result"
    }
   ],
   "source": [
    "all_sublst([1, 2, 3])"
   ]
  },
  {
   "cell_type": "markdown",
   "metadata": {},
   "source": [
    "  "
   ]
  },
  {
   "cell_type": "markdown",
   "metadata": {},
   "source": [
    "#### 5. Permutation of a given string using inbuilt function"
   ]
  },
  {
   "cell_type": "markdown",
   "metadata": {},
   "source": [
    "A permutation, also called an “arrangement number” or “order”, is a rearrangement of the elements of an ordered list S into a one-to-one correspondence with S itself. A string of length n has n! permutation."
   ]
  },
  {
   "cell_type": "markdown",
   "metadata": {},
   "source": [
    "Input :  str = 'ABC'\n",
    "Output : ABC \n",
    "         ACB \n",
    "         BAC \n",
    "         BCA \n",
    "         CAB \n",
    "         CBA"
   ]
  },
  {
   "cell_type": "code",
   "execution_count": 108,
   "metadata": {},
   "outputs": [
    {
     "data": {
      "text/plain": [
       "[('A', 'B', 'C'),\n",
       " ('A', 'C', 'B'),\n",
       " ('B', 'A', 'C'),\n",
       " ('B', 'C', 'A'),\n",
       " ('C', 'A', 'B'),\n",
       " ('C', 'B', 'A')]"
      ]
     },
     "execution_count": 108,
     "metadata": {},
     "output_type": "execute_result"
    }
   ],
   "source": [
    "from itertools import permutations\n",
    "list(permutations('ABC'))"
   ]
  },
  {
   "cell_type": "code",
   "execution_count": 115,
   "metadata": {
    "collapsed": true
   },
   "outputs": [],
   "source": [
    "### Using Recursion \n",
    "\n",
    "def mypermutation(mylst):\n",
    "    \n",
    "    permut = []\n",
    "\n",
    "    if len(mylst) == 1:\n",
    "        permut.append(mylst)\n",
    "    \n",
    "    else:\n",
    "        for a in mylst:\n",
    "            remainlst = [x for x in mylst if x != a]\n",
    "            for t in mypermutation(remainlst):\n",
    "                permut.append([a] + t)\n",
    "                \n",
    "    return permut\n",
    "\n",
    "def mypermute(mystr):\n",
    "    mylst = list(mystr)\n",
    "    output = mypermutation(mylst)\n",
    "    for o in output:\n",
    "        print(''.join(o))"
   ]
  },
  {
   "cell_type": "code",
   "execution_count": 116,
   "metadata": {},
   "outputs": [
    {
     "name": "stdout",
     "output_type": "stream",
     "text": [
      "ABC\n",
      "ACB\n",
      "BAC\n",
      "BCA\n",
      "CAB\n",
      "CBA\n"
     ]
    }
   ],
   "source": [
    "mypermute('ABC')"
   ]
  },
  {
   "cell_type": "markdown",
   "metadata": {},
   "source": [
    "  "
   ]
  },
  {
   "cell_type": "markdown",
   "metadata": {},
   "source": [
    "#### 6. Remove leading zeros from an IP address"
   ]
  },
  {
   "cell_type": "markdown",
   "metadata": {},
   "source": [
    "* Input : 100.020.003.400  -->  Output : 100.20.3.400\n",
    "\n",
    "* Input : 001.200.001.004  -->  Output : 1.200.1.4"
   ]
  },
  {
   "cell_type": "code",
   "execution_count": 126,
   "metadata": {
    "collapsed": true
   },
   "outputs": [],
   "source": [
    "def cut_lead_zeros(ipstr):\n",
    "    iplst = ipstr.split('.')\n",
    "    output = []\n",
    "    for i in iplst:\n",
    "        start = [int(x=='0') for x in i].index(0)\n",
    "        if start != 0:\n",
    "            output.append(i[start:])\n",
    "        else:\n",
    "            output.append(i)\n",
    "    return '.'.join(output)"
   ]
  },
  {
   "cell_type": "code",
   "execution_count": 129,
   "metadata": {},
   "outputs": [
    {
     "name": "stdout",
     "output_type": "stream",
     "text": [
      "100.20.3.400\n",
      "1.200.1.4\n"
     ]
    }
   ],
   "source": [
    "ipstr = '100.020.003.400'\n",
    "print(cut_lead_zeros(ipstr))\n",
    "\n",
    "ipstr = '001.200.001.004'\n",
    "print(cut_lead_zeros(ipstr))"
   ]
  },
  {
   "cell_type": "markdown",
   "metadata": {},
   "source": [
    "  "
   ]
  },
  {
   "cell_type": "markdown",
   "metadata": {},
   "source": [
    "#### 7. Sort a tuple by its float element"
   ]
  },
  {
   "cell_type": "markdown",
   "metadata": {},
   "source": [
    "* Input : tuple = [('lucky', '18.265'), ('nikhil', '14.107'), ('akash', '24.541'), ('anand', '4.256'), ('gaurav', '10.365')]\n",
    "* Output : [('akash', '24.541'), ('lucky', '18.265'), ('nikhil', '14.107'), ('gaurav', '10.365'), ('anand', '4.256')]\n",
    "\n",
    "\n",
    "* Input : tuple = [('234', '9.4'), ('543', '16.9'), ('756', '5.5'), ('132', '4.2'), ('342', '7.3')]\n",
    "* Output : [('543', '16.9'), ('234', '9.4'), ('342', '7.3'), ('756', '5.5'), ('132', '4.2')]"
   ]
  },
  {
   "cell_type": "code",
   "execution_count": 142,
   "metadata": {
    "collapsed": true
   },
   "outputs": [],
   "source": [
    "def sort_tuple(t):\n",
    "    t.sort(key=lambda x: float(x[1]), reverse=True)\n",
    "    return t"
   ]
  },
  {
   "cell_type": "code",
   "execution_count": 144,
   "metadata": {},
   "outputs": [
    {
     "name": "stdout",
     "output_type": "stream",
     "text": [
      "[('akash', '24.541'), ('lucky', '18.265'), ('nikhil', '14.107'), ('gaurav', '10.365'), ('anand', '4.256')]\n",
      "[('543', '16.9'), ('234', '9.4'), ('342', '7.3'), ('756', '5.5'), ('132', '4.2')]\n"
     ]
    }
   ],
   "source": [
    "newtuple = [('lucky', '18.265'), ('nikhil', '14.107'), ('akash', '24.541'), ('anand', '4.256'), ('gaurav', '10.365')]\n",
    "print(sort_tuple(newtuple))\n",
    "\n",
    "newtuple = [('234', '9.4'), ('543', '16.9'), ('756', '5.5'), ('132', '4.2'), ('342', '7.3')]\n",
    "print(sort_tuple(newtuple))"
   ]
  },
  {
   "cell_type": "markdown",
   "metadata": {},
   "source": [
    "  "
   ]
  },
  {
   "cell_type": "markdown",
   "metadata": {},
   "source": [
    "#### 8. Check if two strings are anagram or not"
   ]
  },
  {
   "cell_type": "markdown",
   "metadata": {},
   "source": [
    "* Input : s1 = \"listen\", s2 = \"silent\"\n",
    "* Output : The strings are anagrams.    \n",
    " \n",
    " \n",
    "* Input : s1 = \"dad\", s2 = \"bad\"\n",
    "* Output : The strings aren't anagrams."
   ]
  },
  {
   "cell_type": "markdown",
   "metadata": {},
   "source": [
    "https://www.geeksforgeeks.org/string-slicing-python-rotate-string/"
   ]
  },
  {
   "cell_type": "code",
   "execution_count": null,
   "metadata": {
    "collapsed": true
   },
   "outputs": [],
   "source": []
  },
  {
   "cell_type": "code",
   "execution_count": null,
   "metadata": {
    "collapsed": true
   },
   "outputs": [],
   "source": []
  }
 ],
 "metadata": {
  "kernelspec": {
   "display_name": "Python 3",
   "language": "python",
   "name": "python3"
  },
  "language_info": {
   "codemirror_mode": {
    "name": "ipython",
    "version": 3
   },
   "file_extension": ".py",
   "mimetype": "text/x-python",
   "name": "python",
   "nbconvert_exporter": "python",
   "pygments_lexer": "ipython3",
   "version": "3.6.3"
  }
 },
 "nbformat": 4,
 "nbformat_minor": 2
}
